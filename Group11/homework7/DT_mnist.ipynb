{
 "cells": [
  {
   "cell_type": "markdown",
   "id": "natural-apple",
   "metadata": {},
   "source": [
    "# import packages"
   ]
  },
  {
   "cell_type": "code",
   "execution_count": 43,
   "id": "exempt-clerk",
   "metadata": {},
   "outputs": [],
   "source": [
    "import numpy as np\n",
    "import pandas as pd\n",
    "\n",
    "from sklearn.datasets import make_classification\n",
    "from sklearn.model_selection import train_test_split\n",
    "from sklearn.metrics import accuracy_score\n",
    "from sklearn import preprocessing\n",
    "from sklearn import tree\n",
    "from sklearn.tree import DecisionTreeClassifier\n",
    "# use brew install graphviz to install the packages\n",
    "import graphviz"
   ]
  },
  {
   "cell_type": "code",
   "execution_count": 44,
   "id": "excess-evans",
   "metadata": {},
   "outputs": [],
   "source": [
    "from sklearn.metrics import confusion_matrix, f1_score, precision_score, recall_score\n",
    "\n",
    "from sklearn import metrics\n",
    "import matplotlib.pyplot as plt"
   ]
  },
  {
   "cell_type": "code",
   "execution_count": 45,
   "id": "downtown-brooks",
   "metadata": {},
   "outputs": [],
   "source": [
    "# Load the dataset\n",
    "#from sklearn.datasets import fetch_openml\n",
    "#mnist = fetch_openml(name = 'mnist_784')"
   ]
  },
  {
   "cell_type": "markdown",
   "id": "champion-punishment",
   "metadata": {},
   "source": [
    "# download dataset"
   ]
  },
  {
   "cell_type": "code",
   "execution_count": 46,
   "id": "finnish-astrology",
   "metadata": {},
   "outputs": [],
   "source": [
    "import tensorflow as tf \n",
    "#train_x=mnist.data :train image data\n",
    "#train_y=mnist.traget :train label data\n",
    "#test_x=mnist.data :test image data\n",
    "#test_y=mnist.traget :test label data\n",
    "(train_x, train_y), (test_x, test_y) = tf.keras.datasets.mnist.load_data(path='mnist.npz')"
   ]
  },
  {
   "cell_type": "code",
   "execution_count": 47,
   "id": "material-entertainment",
   "metadata": {
    "scrolled": true
   },
   "outputs": [
    {
     "data": {
      "text/plain": [
       "(60000, 28, 28)"
      ]
     },
     "execution_count": 47,
     "metadata": {},
     "output_type": "execute_result"
    }
   ],
   "source": [
    "train_x.shape"
   ]
  },
  {
   "cell_type": "code",
   "execution_count": 48,
   "id": "dried-burden",
   "metadata": {},
   "outputs": [
    {
     "data": {
      "text/plain": [
       "(10000, 28, 28)"
      ]
     },
     "execution_count": 48,
     "metadata": {},
     "output_type": "execute_result"
    }
   ],
   "source": [
    "test_x.shape"
   ]
  },
  {
   "cell_type": "code",
   "execution_count": 49,
   "id": "narrow-removal",
   "metadata": {},
   "outputs": [],
   "source": [
    "#reshape to 784\n",
    "#28*28 pixel\n",
    "x = train_x.reshape(60000,28*28)\n",
    "x_test = test_x.reshape(10000,28*28)"
   ]
  },
  {
   "cell_type": "code",
   "execution_count": 50,
   "id": "religious-diameter",
   "metadata": {},
   "outputs": [],
   "source": [
    "y = train_y.astype('int32')\n",
    "y_test=test_y.astype('int32')"
   ]
  },
  {
   "cell_type": "code",
   "execution_count": 51,
   "id": "gross-helen",
   "metadata": {},
   "outputs": [],
   "source": [
    "# Standardise data by dividing by 255\n",
    "#x_train=train_x/255.0\n",
    "#x_test=test_x/255.0"
   ]
  },
  {
   "cell_type": "code",
   "execution_count": 52,
   "id": "accurate-vietnamese",
   "metadata": {},
   "outputs": [],
   "source": [
    "SEED=1000"
   ]
  },
  {
   "cell_type": "code",
   "execution_count": 53,
   "id": "authorized-looking",
   "metadata": {},
   "outputs": [],
   "source": [
    "#set validation dataset\n",
    "x_train, x_val, y_train, y_val = train_test_split(x, y, test_size=1/6, random_state=SEED)"
   ]
  },
  {
   "cell_type": "code",
   "execution_count": 54,
   "id": "minor-therapy",
   "metadata": {},
   "outputs": [
    {
     "name": "stdout",
     "output_type": "stream",
     "text": [
      "Training data:  (50000, 784) (50000,)\n",
      "Test data:  (10000, 784) (10000,)\n",
      "Validation data:  (10000, 784) (10000,)\n"
     ]
    }
   ],
   "source": [
    "print (\"Training data: \", x_train.shape, y_train.shape)\n",
    "print (\"Test data: \", x_test.shape, y_test.shape)\n",
    "print (\"Validation data: \", x_val.shape, y_val.shape)"
   ]
  },
  {
   "cell_type": "markdown",
   "id": "honey-adapter",
   "metadata": {},
   "source": [
    "# decision tree"
   ]
  },
  {
   "cell_type": "code",
   "execution_count": 55,
   "id": "municipal-gather",
   "metadata": {},
   "outputs": [
    {
     "data": {
      "text/plain": [
       "DecisionTreeClassifier(criterion='entropy')"
      ]
     },
     "execution_count": 55,
     "metadata": {},
     "output_type": "execute_result"
    }
   ],
   "source": [
    "model_DT= tree.DecisionTreeClassifier(criterion='entropy',splitter='best',max_depth=None)\n",
    "model_DT.fit(x_train, y_train)"
   ]
  },
  {
   "cell_type": "code",
   "execution_count": 56,
   "id": "plastic-citation",
   "metadata": {},
   "outputs": [
    {
     "name": "stdout",
     "output_type": "stream",
     "text": [
      "At depth: 22\n",
      "Decision Tree Accuracy on the Train set :  1.0\n",
      "Decision Tree Accuracy on the Test set :  0.8822\n",
      "Decision Tree Accuracy on the Validation set: 0.8757\n"
     ]
    }
   ],
   "source": [
    "print(\"At depth:\", model_DT.tree_.max_depth)\n",
    "print(\"Decision Tree Accuracy on the Train set : \", model_DT.score(x_train, y_train))\n",
    "print(\"Decision Tree Accuracy on the Test set : \", model_DT.score(x_test, y_test))\n",
    "print(\"Decision Tree Accuracy on the Validation set:\", model_DT.score(x_val, y_val))"
   ]
  },
  {
   "cell_type": "code",
   "execution_count": 57,
   "id": "defined-static",
   "metadata": {},
   "outputs": [
    {
     "data": {
      "text/plain": [
       "'mnist decision tree - default.pdf'"
      ]
     },
     "execution_count": 57,
     "metadata": {},
     "output_type": "execute_result"
    }
   ],
   "source": [
    "dot_data = tree.export_graphviz(model_DT,\n",
    "                                out_file=None,\n",
    "                                filled=True,\n",
    "                                rounded=True,\n",
    "                                impurity=False,\n",
    "                                special_characters=True)\n",
    "graph = graphviz.Source(dot_data)\n",
    "graph.render(\"mnist decision tree - default\", view = True)"
   ]
  },
  {
   "cell_type": "markdown",
   "id": "fewer-folder",
   "metadata": {},
   "source": [
    "# modify criterion and splitter"
   ]
  },
  {
   "cell_type": "code",
   "execution_count": 86,
   "id": "gross-squad",
   "metadata": {},
   "outputs": [
    {
     "name": "stdout",
     "output_type": "stream",
     "text": [
      "Decision Tree Accuracy on the Train set :  1.0\n",
      "Decision Tree Accuracy on the Test set :  0.8824\n",
      "Decision Tree Accuracy on the Validation set: 0.8701\n"
     ]
    }
   ],
   "source": [
    "clf = DecisionTreeClassifier(criterion='entropy',splitter='random')\n",
    "clf.fit(x_train, y_train)\n",
    "print(\"Decision Tree Accuracy on the Train set : \", clf.score(x_train, y_train))\n",
    "print(\"Decision Tree Accuracy on the Test set : \", clf.score(x_test, y_test))\n",
    "print(\"Decision Tree Accuracy on the Validation set:\", clf.score(x_val, y_val))"
   ]
  },
  {
   "cell_type": "code",
   "execution_count": 83,
   "id": "decimal-healing",
   "metadata": {},
   "outputs": [
    {
     "name": "stdout",
     "output_type": "stream",
     "text": [
      "Decision Tree Accuracy on the Train set :  1.0\n",
      "Decision Tree Accuracy on the Test set :  0.874\n",
      "Decision Tree Accuracy on the Validation set: 0.8723\n"
     ]
    }
   ],
   "source": [
    "clf = DecisionTreeClassifier(criterion='gini',splitter='best')\n",
    "clf.fit(x_train, y_train)\n",
    "print(\"Decision Tree Accuracy on the Train set : \", clf.score(x_train, y_train))\n",
    "print(\"Decision Tree Accuracy on the Test set : \", clf.score(x_test, y_test))\n",
    "print(\"Decision Tree Accuracy on the Validation set:\", clf.score(x_val, y_val))"
   ]
  },
  {
   "cell_type": "code",
   "execution_count": 84,
   "id": "hollow-adjustment",
   "metadata": {},
   "outputs": [
    {
     "name": "stdout",
     "output_type": "stream",
     "text": [
      "Decision Tree Accuracy on the Train set :  1.0\n",
      "Decision Tree Accuracy on the Test set :  0.8717\n",
      "Decision Tree Accuracy on the Validation set: 0.8646\n"
     ]
    }
   ],
   "source": [
    "clf = DecisionTreeClassifier(criterion='gini',splitter='random')\n",
    "clf.fit(x_train, y_train)\n",
    "print(\"Decision Tree Accuracy on the Train set : \", clf.score(x_train, y_train))\n",
    "print(\"Decision Tree Accuracy on the Test set : \", clf.score(x_test, y_test))\n",
    "print(\"Decision Tree Accuracy on the Validation set:\", clf.score(x_val, y_val))"
   ]
  },
  {
   "cell_type": "markdown",
   "id": "convertible-dakota",
   "metadata": {},
   "source": [
    "# modify max_depth"
   ]
  },
  {
   "cell_type": "code",
   "execution_count": 62,
   "id": "mysterious-surveillance",
   "metadata": {},
   "outputs": [
    {
     "name": "stdout",
     "output_type": "stream",
     "text": [
      "2\n",
      "0.33542\n",
      "0.337\n",
      "0.327\n",
      "4\n",
      "0.61114\n",
      "0.6142\n",
      "0.5981\n",
      "6\n",
      "0.7554\n",
      "0.7485\n",
      "0.7386\n",
      "8\n",
      "0.84786\n",
      "0.8369\n",
      "0.8252\n",
      "10\n",
      "0.91508\n",
      "0.8699\n",
      "0.8606\n",
      "12\n",
      "0.9696\n",
      "0.8849\n",
      "0.8761\n",
      "14\n",
      "0.99192\n",
      "0.8808\n",
      "0.8749\n",
      "16\n",
      "0.99834\n",
      "0.8826\n",
      "0.874\n",
      "18\n",
      "0.99952\n",
      "0.8839\n",
      "0.8724\n",
      "20\n",
      "0.99988\n",
      "0.882\n",
      "0.8726\n",
      "22\n",
      "1.0\n",
      "0.8792\n",
      "0.8727\n",
      "24\n",
      "1.0\n",
      "0.8826\n",
      "0.8753\n",
      "26\n",
      "1.0\n",
      "0.8789\n",
      "0.8712\n",
      "28\n",
      "1.0\n",
      "0.8784\n",
      "0.8698\n",
      "30\n",
      "1.0\n",
      "0.8794\n",
      "0.8725\n",
      "32\n",
      "1.0\n",
      "0.8808\n",
      "0.8722\n",
      "34\n",
      "1.0\n",
      "0.8811\n",
      "0.8726\n",
      "36\n",
      "1.0\n",
      "0.8811\n",
      "0.8745\n",
      "38\n",
      "1.0\n",
      "0.8808\n",
      "0.8721\n",
      "40\n",
      "1.0\n",
      "0.8806\n",
      "0.8715\n",
      "42\n",
      "1.0\n",
      "0.8824\n",
      "0.8731\n",
      "44\n",
      "1.0\n",
      "0.8813\n",
      "0.8731\n",
      "46\n",
      "1.0\n",
      "0.8783\n",
      "0.875\n",
      "48\n",
      "1.0\n",
      "0.8794\n",
      "0.871\n"
     ]
    }
   ],
   "source": [
    "# Build model and append scores to a list\n",
    "dt_depths = range(2,50,2)\n",
    "\n",
    "# Stored in a list\n",
    "dt_scores_train = []\n",
    "dt_scores_test = []\n",
    "dt_scores_val=[]\n",
    "\n",
    "# Create and fit the model\n",
    "for d in dt_depths:\n",
    "  clf = DecisionTreeClassifier(criterion='entropy',splitter='best',max_depth=d)\n",
    "  clf.fit(x_train, y_train)\n",
    "    \n",
    "# Append the scores in the list\n",
    "  score = clf.score(x_train, y_train)\n",
    "  dt_scores_train.append(score)\n",
    "  print(d)\n",
    "  print(score)\n",
    "\n",
    "  score = clf.score(x_test, y_test)\n",
    "  dt_scores_test.append(score)\n",
    "  print(score)\n",
    "    \n",
    "  score = clf.score(x_val, y_val)\n",
    "  dt_scores_val.append(score)\n",
    "  print(score)"
   ]
  },
  {
   "cell_type": "code",
   "execution_count": 73,
   "id": "entitled-canvas",
   "metadata": {},
   "outputs": [
    {
     "data": {
      "text/plain": [
       "<matplotlib.legend.Legend at 0x1a39baf860>"
      ]
     },
     "execution_count": 73,
     "metadata": {},
     "output_type": "execute_result"
    },
    {
     "data": {
      "image/png": "[encoded data removed]",
      "text/plain": [
       "<Figure size 432x288 with 1 Axes>"
      ]
     },
     "metadata": {
      "needs_background": "light"
     },
     "output_type": "display_data"
    }
   ],
   "source": [
    "# Plot learning curves from scores\n",
    "fig, ax = plt.subplots()\n",
    "ax.plot(dt_depths, dt_scores_train)\n",
    "ax.plot(dt_depths, dt_scores_val)\n",
    "\n",
    "plt.xlabel(\"Max_depth values\")\n",
    "plt.ylabel(\"Accuracy scores\")\n",
    "plt.title(\"Learning curves\")\n",
    "\n",
    "import matplotlib.patches as mpatches\n",
    "orange = mpatches.Patch(color='orange', label='Test data')\n",
    "blue = mpatches.Patch(color='blue', label='Training data')\n",
    "plt.legend(handles=[orange, blue])"
   ]
  },
  {
   "cell_type": "markdown",
   "id": "junior-trout",
   "metadata": {},
   "source": [
    "# modify min sample split"
   ]
  },
  {
   "cell_type": "code",
   "execution_count": 88,
   "id": "turkish-fisher",
   "metadata": {},
   "outputs": [
    {
     "name": "stdout",
     "output_type": "stream",
     "text": [
      "2\n",
      "1.0\n",
      "0.8818\n",
      "0.8733\n",
      "3\n",
      "0.99476\n",
      "0.8817\n",
      "0.8723\n",
      "4\n",
      "0.99072\n",
      "0.8794\n",
      "0.8732\n",
      "5\n",
      "0.98644\n",
      "0.8772\n",
      "0.8725\n",
      "6\n",
      "0.9821\n",
      "0.8782\n",
      "0.8722\n",
      "7\n",
      "0.97862\n",
      "0.8798\n",
      "0.873\n",
      "8\n",
      "0.97542\n",
      "0.8789\n",
      "0.8715\n",
      "9\n",
      "0.97238\n",
      "0.8781\n",
      "0.8718\n",
      "10\n",
      "0.96942\n",
      "0.877\n",
      "0.8715\n",
      "11\n",
      "0.9665\n",
      "0.8772\n",
      "0.8728\n",
      "12\n",
      "0.96292\n",
      "0.8768\n",
      "0.8717\n",
      "13\n",
      "0.96006\n",
      "0.876\n",
      "0.8706\n",
      "14\n",
      "0.95724\n",
      "0.8772\n",
      "0.8725\n",
      "15\n",
      "0.95448\n",
      "0.876\n",
      "0.8721\n",
      "16\n",
      "0.95154\n",
      "0.8752\n",
      "0.8712\n",
      "17\n",
      "0.94966\n",
      "0.8761\n",
      "0.8731\n",
      "18\n",
      "0.94744\n",
      "0.8757\n",
      "0.8706\n",
      "19\n",
      "0.94584\n",
      "0.8755\n",
      "0.8697\n"
     ]
    }
   ],
   "source": [
    "# Build model and append scores to a list\n",
    "dt_ns = range(2,20,1)\n",
    "\n",
    "# Stored in a list\n",
    "dt_scores_train = []\n",
    "dt_scores_test = []\n",
    "dt_scores_val=[]\n",
    "\n",
    "# Create and fit the model\n",
    "for n in dt_ns:\n",
    "  clf = DecisionTreeClassifier(criterion='entropy',splitter='best',min_samples_split=n)\n",
    "  clf.fit(x_train, y_train)\n",
    "    \n",
    "# Append the scores in the list\n",
    "  score = clf.score(x_train, y_train)\n",
    "  dt_scores_train.append(score)\n",
    "  print(n)\n",
    "  print(score)\n",
    "\n",
    "  score = clf.score(x_test, y_test)\n",
    "  dt_scores_test.append(score)\n",
    "  print(score)\n",
    "    \n",
    "  score = clf.score(x_val, y_val)\n",
    "  dt_scores_val.append(score)\n",
    "  print(score)"
   ]
  },
  {
   "cell_type": "code",
   "execution_count": 89,
   "id": "creative-adaptation",
   "metadata": {},
   "outputs": [
    {
     "data": {
      "text/plain": [
       "<matplotlib.legend.Legend at 0x1a3a557cf8>"
      ]
     },
     "execution_count": 89,
     "metadata": {},
     "output_type": "execute_result"
    },
    {
     "data": {
      "image/png": "[encoded data removed]",
      "text/plain": [
       "<Figure size 432x288 with 1 Axes>"
      ]
     },
     "metadata": {
      "needs_background": "light"
     },
     "output_type": "display_data"
    }
   ],
   "source": [
    "# Plot learning curves from scores\n",
    "fig, ax = plt.subplots()\n",
    "ax.plot(dt_ns, dt_scores_train)\n",
    "ax.plot(dt_ns, dt_scores_val)\n",
    "\n",
    "plt.xlabel(\"Max_depth values\")\n",
    "plt.ylabel(\"Accuracy scores\")\n",
    "plt.title(\"Learning curves\")\n",
    "\n",
    "import matplotlib.patches as mpatches\n",
    "orange = mpatches.Patch(color='orange', label='Test data')\n",
    "blue = mpatches.Patch(color='blue', label='Training data')\n",
    "plt.legend(handles=[orange, blue])"
   ]
  },
  {
   "cell_type": "code",
   "execution_count": null,
   "id": "manufactured-concept",
   "metadata": {},
   "outputs": [],
   "source": []
  }
 ],
 "metadata": {
  "kernelspec": {
   "display_name": "Python 3",
   "language": "python",
   "name": "python3"
  },
  "language_info": {
   "codemirror_mode": {
    "name": "ipython",
    "version": 3
   },
   "file_extension": ".py",
   "mimetype": "text/x-python",
   "name": "python",
   "nbconvert_exporter": "python",
   "pygments_lexer": "ipython3",
   "version": "3.6.12"
  }
 },
 "nbformat": 4,
 "nbformat_minor": 5
}
